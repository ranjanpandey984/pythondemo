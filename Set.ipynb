{
 "cells": [
  {
   "cell_type": "code",
   "execution_count": 1,
   "id": "fef6db2e",
   "metadata": {},
   "outputs": [
    {
     "data": {
      "text/plain": [
       "set"
      ]
     },
     "execution_count": 1,
     "metadata": {},
     "output_type": "execute_result"
    }
   ],
   "source": [
    "a=set()\n",
    "type(a)"
   ]
  },
  {
   "cell_type": "code",
   "execution_count": 2,
   "id": "2b546595",
   "metadata": {},
   "outputs": [
    {
     "name": "stdout",
     "output_type": "stream",
     "text": [
      "{1, 2, 3, 4, 5}\n"
     ]
    }
   ],
   "source": [
    "#Unique values\n",
    "a={1,2,3,1,2,2,3,4,4,5}\n",
    "print(a)"
   ]
  },
  {
   "cell_type": "code",
   "execution_count": 3,
   "id": "ab00620c",
   "metadata": {},
   "outputs": [
    {
     "name": "stdout",
     "output_type": "stream",
     "text": [
      "{'Dog', 1, 0, 4, 'Cat', 'Apple', 'Ball'}\n"
     ]
    }
   ],
   "source": [
    "#Unordered\n",
    "a={\"Apple\",\"Cat\",\"Ball\",\"Dog\",1,4,0}\n",
    "print(a)"
   ]
  },
  {
   "cell_type": "code",
   "execution_count": 4,
   "id": "7ea4d6d3",
   "metadata": {},
   "outputs": [
    {
     "name": "stdout",
     "output_type": "stream",
     "text": [
      "{1, 2, 3}\n"
     ]
    }
   ],
   "source": [
    "#Adding values in set\n",
    "a={1,2}\n",
    "a.add(3)\n",
    "print(a)"
   ]
  },
  {
   "cell_type": "code",
   "execution_count": 5,
   "id": "9e2c51a8",
   "metadata": {},
   "outputs": [
    {
     "name": "stdout",
     "output_type": "stream",
     "text": [
      "Enter n: 3\n",
      "Enter value: apple\n",
      "Enter value: 2\n",
      "Enter value: Ball\n",
      "{'apple', 'Ball', '2'}\n"
     ]
    }
   ],
   "source": [
    "#Adding multiple values\n",
    "a=set()\n",
    "n=int(input(\"Enter n: \"))\n",
    "for i in range(n):\n",
    "    x=input(\"Enter value: \")\n",
    "    a.add(x)\n",
    "print(a)"
   ]
  },
  {
   "cell_type": "code",
   "execution_count": 6,
   "id": "19689bb3",
   "metadata": {},
   "outputs": [
    {
     "data": {
      "text/plain": [
       "[1, 2, 3]"
      ]
     },
     "execution_count": 6,
     "metadata": {},
     "output_type": "execute_result"
    }
   ],
   "source": [
    "a=[1,2,2,3,3,1]\n",
    "a=list(set(a))\n",
    "a"
   ]
  },
  {
   "cell_type": "code",
   "execution_count": 8,
   "id": "cf237e1e",
   "metadata": {},
   "outputs": [
    {
     "data": {
      "text/plain": [
       "{'1', '2', '3', '4', '5'}"
      ]
     },
     "execution_count": 8,
     "metadata": {},
     "output_type": "execute_result"
    }
   ],
   "source": [
    "a=set(\"12233114455\")\n",
    "a"
   ]
  },
  {
   "cell_type": "code",
   "execution_count": 12,
   "id": "9eeed9c1",
   "metadata": {},
   "outputs": [
    {
     "name": "stdout",
     "output_type": "stream",
     "text": [
      "{(1, 2, 3, 4), (1, 23, 4, 5)}\n"
     ]
    }
   ],
   "source": [
    "#Set only contains immutable data type such as \"Tuple\" \n",
    "#inside it but doesnot contain mutable data type such as\n",
    "#list, dictionary,set\n",
    "\n",
    "a={(1,2,3,4),(1,23,4,5)}\n",
    "print(a)"
   ]
  },
  {
   "cell_type": "code",
   "execution_count": 20,
   "id": "8cc8ddb3",
   "metadata": {},
   "outputs": [
    {
     "name": "stdout",
     "output_type": "stream",
     "text": [
      "Union --> {1, 2, 3, 4, 5, 6}\n",
      "Intersection --> {2, 3}\n",
      "A diff B --> {1, 6}\n",
      "B diff A --> {4, 5}\n"
     ]
    }
   ],
   "source": [
    "a={1,2,3,6}\n",
    "b={2,3,4,5}\n",
    "print(\"Union -->\",a.union(b))\n",
    "print(\"Intersection -->\" , a.intersection(b))\n",
    "print(\"A diff B -->\" , a.difference(b))\n",
    "print(\"B diff A -->\" , b.difference(a))"
   ]
  },
  {
   "cell_type": "code",
   "execution_count": 23,
   "id": "276edac6",
   "metadata": {},
   "outputs": [
    {
     "name": "stdout",
     "output_type": "stream",
     "text": [
      "{1, 6}\n",
      "{1, 4, 5, 6}\n"
     ]
    }
   ],
   "source": [
    "#Symmetric difference\n",
    "\n",
    "#1st Method\n",
    "a={1,2,3,6}\n",
    "b={2,3,4,5}\n",
    "\n",
    "c=a-b\n",
    "d=b-a\n",
    "print(c)\n",
    "print(c.union(d))"
   ]
  },
  {
   "cell_type": "code",
   "execution_count": 24,
   "id": "4fdbd01e",
   "metadata": {},
   "outputs": [
    {
     "name": "stdout",
     "output_type": "stream",
     "text": [
      "{1, 4, 5, 6}\n"
     ]
    }
   ],
   "source": [
    "#2nd method for Symmetric difference\n",
    "a={1,2,3,6}\n",
    "b={2,3,4,5}\n",
    "\n",
    "c=a.union(b)\n",
    "d=a.intersection(b)\n",
    "print(c-d)"
   ]
  },
  {
   "cell_type": "code",
   "execution_count": 36,
   "id": "d854bde2",
   "metadata": {},
   "outputs": [
    {
     "name": "stdout",
     "output_type": "stream",
     "text": [
      "False\n"
     ]
    }
   ],
   "source": [
    "#Joint and Disjoint\n",
    "a={1,2,3}\n",
    "b={2,3,4}\n",
    "print(a.isdisjoint(b))\n"
   ]
  },
  {
   "cell_type": "code",
   "execution_count": 34,
   "id": "b2bdfe16",
   "metadata": {},
   "outputs": [
    {
     "name": "stdout",
     "output_type": "stream",
     "text": [
      "False\n",
      "True\n"
     ]
    }
   ],
   "source": [
    "#Subset and Superset\n",
    "a={1,2,3,4,5,6}\n",
    "b={2,3,1}\n",
    "print(a.issubset(b))\n",
    "print(a.issuperset(b))"
   ]
  },
  {
   "cell_type": "code",
   "execution_count": null,
   "id": "4a69eaa1",
   "metadata": {},
   "outputs": [],
   "source": []
  }
 ],
 "metadata": {
  "kernelspec": {
   "display_name": "Python 3",
   "language": "python",
   "name": "python3"
  },
  "language_info": {
   "codemirror_mode": {
    "name": "ipython",
    "version": 3
   },
   "file_extension": ".py",
   "mimetype": "text/x-python",
   "name": "python",
   "nbconvert_exporter": "python",
   "pygments_lexer": "ipython3",
   "version": "3.8.8"
  }
 },
 "nbformat": 4,
 "nbformat_minor": 5
}
