{
 "cells": [
  {
   "cell_type": "code",
   "execution_count": 2,
   "id": "c3275fd9",
   "metadata": {},
   "outputs": [
    {
     "name": "stdout",
     "output_type": "stream",
     "text": [
      "I am Ranjan\n",
      "<class 'str'>\n"
     ]
    }
   ],
   "source": [
    "a= \"Ranjan\"\n",
    "b= f\"I am {a}\"\n",
    "print(b)\n",
    "print(type(b))"
   ]
  },
  {
   "cell_type": "code",
   "execution_count": 21,
   "id": "122ea6b0",
   "metadata": {},
   "outputs": [
    {
     "name": "stdout",
     "output_type": "stream",
     "text": [
      "enter number: 3\n",
      "enterram\n",
      "entershyam\n",
      "enterraju\n",
      "ramshyamraju\n"
     ]
    }
   ],
   "source": [
    "a=str()\n",
    "n=int(input(\"enter number: \"))\n",
    "for i in range(n):\n",
    "    v=input(\"enter\")\n",
    "    a=a+v\n",
    "print(a)\n",
    "#     print(n,\"x\", i, \"=\", n*i)"
   ]
  },
  {
   "cell_type": "code",
   "execution_count": 23,
   "id": "88ffb2fe",
   "metadata": {},
   "outputs": [
    {
     "name": "stdout",
     "output_type": "stream",
     "text": [
      "hello\n",
      "hello\n",
      "hello\n",
      "hello\n",
      "hello\n",
      "hello\n"
     ]
    }
   ],
   "source": [
    "a=\"python\"\n",
    "for i in a:\n",
    "    print(\"hello\")"
   ]
  },
  {
   "cell_type": "code",
   "execution_count": 9,
   "id": "69cccc17",
   "metadata": {},
   "outputs": [
    {
     "name": "stdout",
     "output_type": "stream",
     "text": [
      "enter number 6\n",
      "6 is composite\n"
     ]
    }
   ],
   "source": [
    "n=int(input(\"enter number \"))\n",
    "for i in range(2,n):\n",
    "    if n%i==0:\n",
    "        print(n,\"is composite\")\n",
    "        break\n",
    "else:\n",
    "    print(n,\"is prime\")\n",
    "    "
   ]
  },
  {
   "cell_type": "code",
   "execution_count": 4,
   "id": "64bd5200",
   "metadata": {},
   "outputs": [
    {
     "name": "stdout",
     "output_type": "stream",
     "text": [
      "P Python hello\n",
      "y Python hello\n",
      "t Python hello\n",
      "h Python hello\n",
      "o Python hello\n",
      "n Python hello\n"
     ]
    }
   ],
   "source": [
    "a=\"Python\"\n",
    "for i in a:\n",
    "    print(i,a,\"hello\")"
   ]
  },
  {
   "cell_type": "code",
   "execution_count": 2,
   "id": "d6521c8e",
   "metadata": {},
   "outputs": [
    {
     "name": "stdout",
     "output_type": "stream",
     "text": [
      "Enter l:2\n",
      "Enter b:3\n",
      "6\n",
      "None\n"
     ]
    }
   ],
   "source": [
    "def area(le,be):\n",
    "    a=le*be\n",
    "    print(a)\n",
    "l=int(input(\"Enter l:\"))\n",
    "b=int(input(\"Enter b:\"))\n",
    "ab=area(l,b)\n",
    "print(ab)"
   ]
  },
  {
   "cell_type": "code",
   "execution_count": 2,
   "id": "e60dd7d1",
   "metadata": {},
   "outputs": [
    {
     "name": "stdout",
     "output_type": "stream",
     "text": [
      "Hello World\n",
      "\n"
     ]
    }
   ],
   "source": [
    "a=\"Hello World\\n\"\n",
    "print(a)"
   ]
  },
  {
   "cell_type": "code",
   "execution_count": 4,
   "id": "cc903d45",
   "metadata": {},
   "outputs": [
    {
     "name": "stdout",
     "output_type": "stream",
     "text": [
      "nohtyP\n"
     ]
    }
   ],
   "source": [
    "a=\"Python\"\n",
    "l=len(a)\n",
    "print(a[5::-1])"
   ]
  },
  {
   "cell_type": "code",
   "execution_count": 14,
   "id": "caef9e05",
   "metadata": {},
   "outputs": [
    {
     "name": "stdout",
     "output_type": "stream",
     "text": [
      "Enter nameRam\n",
      "Enter age12\n",
      "Ram 12\n"
     ]
    }
   ],
   "source": [
    "#String formatting:\n",
    "\n",
    "name=input(\"Enter name\")\n",
    "age=int(input(\"Enter age\"))\n",
    "fo= f\"{name} {age}\"\n",
    "print(fo)"
   ]
  },
  {
   "cell_type": "code",
   "execution_count": 15,
   "id": "8505cb4c",
   "metadata": {},
   "outputs": [
    {
     "name": "stdout",
     "output_type": "stream",
     "text": [
      "Enter nameRam\n",
      "Enter age34\n",
      "Enter nameRanjan\n",
      "Enter age324\n",
      "Ram 34\n",
      "Ranjan 324\n",
      "\n"
     ]
    }
   ],
   "source": [
    "info=str()\n",
    "for i in range(2):\n",
    "    name=input(\"Enter name\")\n",
    "    age=int(input(\"Enter age\"))\n",
    "    fo= f\"{name} {age}\\n\"\n",
    "    info=info+fo\n",
    "print(info)"
   ]
  },
  {
   "cell_type": "code",
   "execution_count": 27,
   "id": "b2dff321",
   "metadata": {},
   "outputs": [
    {
     "name": "stdout",
     "output_type": "stream",
     "text": [
      "enter name:Ram\n",
      "Yes\n",
      "1\n"
     ]
    }
   ],
   "source": [
    "a=\"Ram and Shyam are friends\"\n",
    "name=input(\"enter name:\")\n",
    "if name in a:\n",
    "    print(\"Yes\")\n",
    "    print(a.count(name))"
   ]
  },
  {
   "cell_type": "code",
   "execution_count": 5,
   "id": "c1561867",
   "metadata": {},
   "outputs": [
    {
     "name": "stdout",
     "output_type": "stream",
     "text": [
      "enter name:raM\n",
      "Yes\n",
      "2\n"
     ]
    }
   ],
   "source": [
    "#Changing case:\n",
    "a=\"Ram and ram Shyam are friends\"\n",
    "#a=a.lower()\n",
    "data=a.upper()\n",
    "name=input(\"enter name:\")\n",
    "#name=name.lower()\n",
    "enterdata=name.upper()\n",
    "if enterdata in data:\n",
    "    print(\"Yes\")\n",
    "    print(data.count(enterdata))"
   ]
  },
  {
   "cell_type": "code",
   "execution_count": 32,
   "id": "5dc11d7e",
   "metadata": {},
   "outputs": [
    {
     "name": "stdout",
     "output_type": "stream",
     "text": [
      "Enter name=Ram\n",
      "Enter new name=Ranjan\n",
      "\n",
      "Ranjan shyam rita sita gita\n",
      "Ram shyam rita sita gita\n"
     ]
    }
   ],
   "source": [
    "#Replacing in a string\n",
    "a=\"Ram shyam rita sita gita\"\n",
    "name=input(\"Enter name=\")\n",
    "newname=input(\"Enter new name=\")\n",
    "\n",
    "b=a.replace(name,newname)#Replace garda original variable ma change garna mildaina\n",
    "print(\"\\n\"+b)\n",
    "print(a)"
   ]
  },
  {
   "cell_type": "code",
   "execution_count": 38,
   "id": "83d7a00f",
   "metadata": {},
   "outputs": [
    {
     "name": "stdout",
     "output_type": "stream",
     "text": [
      "RaJan\n",
      "shyam\n"
     ]
    }
   ],
   "source": [
    "a=\"Ram shyam gita\"\n",
    "c=a[4:9]\n",
    "b=a[4:9].replace(\"shyam\",\"RaJan\")\n",
    "\n",
    "print(b)\n",
    "print(c)"
   ]
  },
  {
   "cell_type": "code",
   "execution_count": 8,
   "id": "815cb6d4",
   "metadata": {},
   "outputs": [
    {
     "name": "stdout",
     "output_type": "stream",
     "text": [
      "Python\n"
     ]
    }
   ],
   "source": [
    "a=\"Python\"\n",
    "b=len(a)\n",
    "print(a[:b:1])"
   ]
  },
  {
   "cell_type": "code",
   "execution_count": 4,
   "id": "2ac9ea11",
   "metadata": {},
   "outputs": [
    {
     "name": "stdout",
     "output_type": "stream",
     "text": [
      "H e l l o   I   a m   R a n j a n   P a n d e y "
     ]
    }
   ],
   "source": [
    "a=\"Hello I am Ranjan Pandey\"\n",
    "for i in a:\n",
    "    print(i,end=\" \")"
   ]
  },
  {
   "cell_type": "code",
   "execution_count": null,
   "id": "fffd64ab",
   "metadata": {},
   "outputs": [],
   "source": []
  },
  {
   "cell_type": "code",
   "execution_count": null,
   "id": "00fa2b15",
   "metadata": {},
   "outputs": [],
   "source": []
  }
 ],
 "metadata": {
  "kernelspec": {
   "display_name": "Python 3",
   "language": "python",
   "name": "python3"
  },
  "language_info": {
   "codemirror_mode": {
    "name": "ipython",
    "version": 3
   },
   "file_extension": ".py",
   "mimetype": "text/x-python",
   "name": "python",
   "nbconvert_exporter": "python",
   "pygments_lexer": "ipython3",
   "version": "3.8.8"
  }
 },
 "nbformat": 4,
 "nbformat_minor": 5
}
