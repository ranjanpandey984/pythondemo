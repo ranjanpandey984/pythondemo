{
 "cells": [
  {
   "cell_type": "code",
   "execution_count": 2,
   "id": "8049aa49",
   "metadata": {},
   "outputs": [
    {
     "name": "stdout",
     "output_type": "stream",
     "text": [
      "Enter how many data to enter: 2\n",
      "Enter name: ram\n",
      "Enter marks in english: 23\n",
      "Enter marks in maths: 23\n",
      "Enter marks in computer: 23\n",
      "Enter name: ram\n",
      "Enter marks in english: 32\n",
      "Enter marks in maths: 23\n",
      "Enter marks in computer: 23\n",
      "\n",
      "The data of the students are: \n",
      " [['ram', 23, 23, 23, 69, 23.0], ['ram', 32, 23, 23, 78, 26.0]] \n",
      "\n",
      "Do u want to read or search any data (y/n): y\n",
      "Enter the name of student to search: ram\n",
      "['ram', 23, 23, 23, 69, 23.0]\n",
      "['ram', 32, 23, 23, 78, 26.0]\n",
      "\n",
      "Do u want to update any name of the student (y/n): n\n",
      "Do u want to delete any data (y/n): n\n"
     ]
    }
   ],
   "source": [
    "final=[]\n",
    "n=int(input(\"Enter how many data to enter: \"))\n",
    "for i in range(n):\n",
    "    name=input(\"Enter name: \")\n",
    "    english=int(input(\"Enter marks in english: \"))\n",
    "    maths=int(input(\"Enter marks in maths: \"))\n",
    "    computer=int(input(\"Enter marks in computer: \"))\n",
    "    total = english + maths + computer\n",
    "    percent = total/3\n",
    "    info=[name, english, maths, computer, total, percent]\n",
    "    #CREATE\n",
    "    final.append(info)\n",
    "\n",
    "#READ    \n",
    "print(\"\\nThe data of the students are: \\n\", final,\"\\n\")\n",
    "\n",
    "read=(input(\"Do u want to read or search any data (y/n): \")).lower()\n",
    "c=0\n",
    "if read == 'y' or read == 'yes':\n",
    "    \n",
    "    data=input(\"Enter the name of student to search: \")\n",
    "    for i in final:\n",
    "        \n",
    "        if data in i:\n",
    "            c=c+1\n",
    "            print(i)\n",
    "                    \n",
    "if c==0:\n",
    "    print(\"There is no such element\")\n",
    "    \n",
    "           \n",
    "#UPDATE\n",
    "up=(input(\"\\nDo u want to update any name of the student (y/n): \")).lower()\n",
    "if up == 'y' or up == 'yes':\n",
    "    old=input(\"Enter the name to update: \")\n",
    "    new=input(\"Enter the new name: \")\n",
    "    for i in range(len(final)):\n",
    "        if final[i][0] == old:\n",
    "            final[i][0] = new\n",
    "    print(\"\\nThe new data list after the update is  \\n\", final)\n",
    "\n",
    "#DELETE\n",
    "delete=(input(\"Do u want to delete any data (y/n): \")).lower()\n",
    "if delete == 'y' or delete == 'yes':\n",
    "    toDelete=input(\"Enter the name to delete: \")\n",
    "    for i in final:\n",
    "        if toDelete in i:\n",
    "            final.remove(i)\n",
    "    print(\"\\nThe list after deleting the required data:\\n\", final)"
   ]
  },
  {
   "cell_type": "code",
   "execution_count": 20,
   "id": "03f4c83a",
   "metadata": {},
   "outputs": [
    {
     "name": "stdout",
     "output_type": "stream",
     "text": [
      "0 Ram\n",
      "1 Hari\n",
      "2 Raju\n",
      "3 Rajan\n",
      "4 Shyam\n",
      "5 Shyam\n"
     ]
    }
   ],
   "source": [
    "a=[\"Ram\",\"Hari\",\"Raju\",\"Rajan\",\"Shyam\",\n",
    "  \"Shyam\"]\n",
    "for x in range(len(a)):\n",
    "    print(x,a[x])"
   ]
  },
  {
   "cell_type": "code",
   "execution_count": 21,
   "id": "00b2f6f3",
   "metadata": {},
   "outputs": [
    {
     "name": "stdout",
     "output_type": "stream",
     "text": [
      "(0, 'Ram')\n",
      "(1, 'Hari')\n",
      "(2, 'Raju')\n",
      "(3, 'Rajan')\n",
      "(4, 'Shyam')\n",
      "(5, 'Shyam')\n"
     ]
    }
   ],
   "source": [
    "a=[\"Ram\",\"Hari\",\"Raju\",\"Rajan\",\"Shyam\",\n",
    "  \"Shyam\"]\n",
    "for x in enumerate(a):\n",
    "    print(x)"
   ]
  },
  {
   "cell_type": "code",
   "execution_count": 25,
   "id": "1ea2fcb2",
   "metadata": {},
   "outputs": [
    {
     "name": "stdout",
     "output_type": "stream",
     "text": [
      "0 Ram\n",
      "1 Hari\n",
      "2 Raju\n",
      "3 Rajan\n",
      "4 Shyam\n",
      "5 Shyam\n"
     ]
    }
   ],
   "source": [
    "a=[\"Ram\",\"Hari\",\"Raju\",\"Rajan\",\"Shyam\",\n",
    "  \"Shyam\"]\n",
    "for i,x in enumerate(a):\n",
    "    print(i,x)"
   ]
  },
  {
   "cell_type": "code",
   "execution_count": 15,
   "id": "2fdfc9c8",
   "metadata": {},
   "outputs": [
    {
     "name": "stdout",
     "output_type": "stream",
     "text": [
      "(0, 'S')\n",
      "(1, 'h')\n",
      "(2, 'y')\n",
      "(3, 'a')\n",
      "(4, 'm')\n"
     ]
    }
   ],
   "source": [
    "a=\"Shyam\"\n",
    "for i in enumerate(a):\n",
    "    print(i)"
   ]
  },
  {
   "cell_type": "code",
   "execution_count": null,
   "id": "54933462",
   "metadata": {},
   "outputs": [],
   "source": []
  },
  {
   "cell_type": "code",
   "execution_count": null,
   "id": "f2a5cc20",
   "metadata": {},
   "outputs": [],
   "source": []
  },
  {
   "cell_type": "code",
   "execution_count": null,
   "id": "e1748589",
   "metadata": {},
   "outputs": [],
   "source": []
  }
 ],
 "metadata": {
  "kernelspec": {
   "display_name": "Python 3",
   "language": "python",
   "name": "python3"
  },
  "language_info": {
   "codemirror_mode": {
    "name": "ipython",
    "version": 3
   },
   "file_extension": ".py",
   "mimetype": "text/x-python",
   "name": "python",
   "nbconvert_exporter": "python",
   "pygments_lexer": "ipython3",
   "version": "3.8.8"
  }
 },
 "nbformat": 4,
 "nbformat_minor": 5
}
