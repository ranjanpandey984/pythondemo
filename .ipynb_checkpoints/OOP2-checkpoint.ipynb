{
 "cells": [
  {
   "cell_type": "code",
   "execution_count": 5,
   "id": "7c031f2a",
   "metadata": {},
   "outputs": [
    {
     "name": "stdout",
     "output_type": "stream",
     "text": [
      "20\n",
      "<class '__main__.Volume'>\n"
     ]
    }
   ],
   "source": [
    "class Volume:\n",
    "    def __init__(self,l,b):\n",
    "        self.l = l\n",
    "        self.b = b\n",
    "    \n",
    "    def __str__(self):\n",
    "        a = self.l * self.b\n",
    "        return f\"{a}\"\n",
    "\n",
    "obj = Volume(4,5)\n",
    "print(obj)\n",
    "print(type(obj))"
   ]
  },
  {
   "cell_type": "code",
   "execution_count": 6,
   "id": "36db12ad",
   "metadata": {},
   "outputs": [
    {
     "name": "stdout",
     "output_type": "stream",
     "text": [
      "Enter Length: 2\n",
      "Enter Breadth: 3\n",
      "6\n",
      "<class '__main__.Volume'>\n"
     ]
    }
   ],
   "source": [
    "class Volume:\n",
    "    def __init__(self,l,b):\n",
    "        self.l = l\n",
    "        self.b = b\n",
    "    \n",
    "    def __str__(self):\n",
    "        a = self.l * self.b\n",
    "        return f\"{a}\"\n",
    "\n",
    "l= int(input(\"Enter Length: \"))\n",
    "b= int(input(\"Enter Breadth: \"))\n",
    "obj = Volume(l,b)\n",
    "print(obj)\n",
    "print(type(obj))"
   ]
  },
  {
   "cell_type": "code",
   "execution_count": 8,
   "id": "f6bfd749",
   "metadata": {},
   "outputs": [
    {
     "name": "stdout",
     "output_type": "stream",
     "text": [
      "Enter Length: 4\n",
      "Enter Breadth: 6\n",
      "24\n",
      "24\n",
      "24\n",
      "<class '__main__.Volume'>\n"
     ]
    }
   ],
   "source": [
    "# __str__() method\n",
    "class Volume:\n",
    "    def __init__(self,l,b):\n",
    "        self.l = l \n",
    "        self.b = b\n",
    "    \n",
    "    def __str__(self):\n",
    "        a = self.l * self.b\n",
    "        return f\"{a}\"\n",
    "\n",
    "l=int(input(\"Enter Length: \"))\n",
    "b=int(input(\"Enter Breadth: \"))\n",
    "obj = Volume(l,b)\n",
    "print(obj)\n",
    "print(obj.__str__())\n",
    "x = str(obj)\n",
    "print(x)\n",
    "print(type(obj))"
   ]
  },
  {
   "cell_type": "code",
   "execution_count": 9,
   "id": "aed5a928",
   "metadata": {},
   "outputs": [
    {
     "name": "stdout",
     "output_type": "stream",
     "text": [
      "Enter Length: 5\n",
      "Enter Breadth: 3\n",
      "15\n",
      "15\n",
      "<class '__main__.Volume'>\n"
     ]
    }
   ],
   "source": [
    "# __repr__() method\n",
    "class Volume:\n",
    "    def __init__(self, l , b):\n",
    "        self.l = l\n",
    "        self.b = b\n",
    "    \n",
    "    def __repr__(self):\n",
    "        a = self.l * self.b\n",
    "        return f\"{a}\"\n",
    "\n",
    "l=int(input(\"Enter Length: \"))\n",
    "b=int(input(\"Enter Breadth: \"))\n",
    "obj = Volume(l,b)\n",
    "print(obj)          #lloook\n",
    "print(obj.__repr__())\n",
    "print(type(obj))"
   ]
  },
  {
   "cell_type": "code",
   "execution_count": 10,
   "id": "4b63d97f",
   "metadata": {},
   "outputs": [
    {
     "name": "stdout",
     "output_type": "stream",
     "text": [
      "Enter Length: 4\n",
      "Enter Breadth: 2\n",
      "{'Area': 8}\n",
      "<class '__main__.Volume'>\n"
     ]
    }
   ],
   "source": [
    "class Volume:\n",
    "    def __init__(self,l,b):\n",
    "        self.l=l\n",
    "        self.b=b\n",
    "  \n",
    "    def __repr__(self):\n",
    "        a = self.l * self.b\n",
    "        return {\"Area\":a}\n",
    "\n",
    "l=int(input(\"Enter Length: \"))\n",
    "b=int(input(\"Enter Breadth: \"))\n",
    "obj = Volume(l,b)\n",
    "print(obj.__repr__())\n",
    "print(type(obj))"
   ]
  },
  {
   "cell_type": "code",
   "execution_count": 11,
   "id": "261467d4",
   "metadata": {},
   "outputs": [
    {
     "name": "stdout",
     "output_type": "stream",
     "text": [
      "1 5\n"
     ]
    }
   ],
   "source": [
    "# OPerator Overloading with 2 objects\n",
    "class Point():\n",
    "    def __init__(self, x=0, y=0):\n",
    "        self.x=x\n",
    "        self.y=y\n",
    "\n",
    "    def __str__(self):\n",
    "        return f\"{self.x} {self.y}\"\n",
    "\n",
    "    def __add__(self,other):\n",
    "        x = self.x + other.x\n",
    "        y = self.y + other.y\n",
    "        return Point(x,y)\n",
    "\n",
    "p1=Point(2,3)\n",
    "p2=Point(-1,2)\n",
    "print(p1+p2)"
   ]
  },
  {
   "cell_type": "code",
   "execution_count": 12,
   "id": "86cb8d0e",
   "metadata": {},
   "outputs": [
    {
     "name": "stdout",
     "output_type": "stream",
     "text": [
      "This is init method 2000\n",
      "This is init method 500\n",
      "This is init method 2500\n",
      "This is add method 2500\n",
      "This is init method 2500\n",
      "This is add method 5000\n",
      "This is init method 5000\n",
      "This is str method 5000\n",
      "5000\n"
     ]
    }
   ],
   "source": [
    "# Operator Overloading with 3 objects\n",
    "class Point():\n",
    "    def __init__(self, x=0):\n",
    "        self.x=x\n",
    "        print(\"This is init method\",self.x)\n",
    "\n",
    "    def __str__(self):\n",
    "        print(\"This is str method\",self.x)\n",
    "        return f\"{self.x}\"\n",
    "\n",
    "    def __add__(self,other):\n",
    "        x = self.x + other.x\n",
    "        print(\"This is add method\",x)\n",
    "        return Point(x)\n",
    "\n",
    "p1=Point(2000)\n",
    "p2=Point(500)\n",
    "p3=Point(2500)\n",
    "print(p1 + p2 + p3)"
   ]
  },
  {
   "cell_type": "code",
   "execution_count": null,
   "id": "2f9b842e",
   "metadata": {},
   "outputs": [],
   "source": [
    "\n"
   ]
  }
 ],
 "metadata": {
  "kernelspec": {
   "display_name": "Python 3",
   "language": "python",
   "name": "python3"
  },
  "language_info": {
   "codemirror_mode": {
    "name": "ipython",
    "version": 3
   },
   "file_extension": ".py",
   "mimetype": "text/x-python",
   "name": "python",
   "nbconvert_exporter": "python",
   "pygments_lexer": "ipython3",
   "version": "3.8.8"
  }
 },
 "nbformat": 4,
 "nbformat_minor": 5
}
