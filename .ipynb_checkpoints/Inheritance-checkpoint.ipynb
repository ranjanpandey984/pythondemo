{
 "cells": [
  {
   "cell_type": "code",
   "execution_count": 1,
   "id": "e5fe3984",
   "metadata": {},
   "outputs": [],
   "source": [
    "#Inheritance"
   ]
  },
  {
   "cell_type": "code",
   "execution_count": 3,
   "id": "6d5fdcad",
   "metadata": {},
   "outputs": [
    {
     "name": "stdout",
     "output_type": "stream",
     "text": [
      "Hello  my name is Ram and I live in Kathmandu\n"
     ]
    }
   ],
   "source": [
    "# How to do inheritance\n",
    "# 1st method to do inheritance\n",
    "class Profile:\n",
    "    def __init__(self,name,add):\n",
    "        self.name=name\n",
    "        self.address=add\n",
    "\n",
    "class Info(Profile):\n",
    "    def info(self):\n",
    "        print(f\"Hello  my name is {self.name} and I live in {self.address}\")\n",
    "        \n",
    "obj = Info(\"Ram\",\"Kathmandu\")\n",
    "obj.info()"
   ]
  },
  {
   "cell_type": "code",
   "execution_count": 81,
   "id": "cee7a417",
   "metadata": {},
   "outputs": [
    {
     "name": "stdout",
     "output_type": "stream",
     "text": [
      "Enter name: Saran\n",
      "Enter address: Lamjung\n",
      "Hello  my name is Saran and I live in Lamjung\n"
     ]
    }
   ],
   "source": [
    "# using input function rather than passing through parameter\n",
    "class Profile:\n",
    "    def __init__(self):\n",
    "        self.name=input(\"Enter name: \")\n",
    "        self.address=input(\"Enter address: \")\n",
    "\n",
    "class Info(Profile):\n",
    "    def info(self):\n",
    "        print(f\"Hello  my name is {self.name} and I live in {self.address}\")\n",
    "        \n",
    "obj = Info()\n",
    "obj.info()"
   ]
  },
  {
   "cell_type": "code",
   "execution_count": 16,
   "id": "02be6481",
   "metadata": {},
   "outputs": [
    {
     "name": "stdout",
     "output_type": "stream",
     "text": [
      "Enter name: Ram\n",
      "Enter address: Tokha\n",
      "Hello  my name is Ram and I live in Tokha\n",
      "Ram Tokha\n"
     ]
    }
   ],
   "source": [
    "# using methods of both classes by a single object\n",
    "class Profile:\n",
    "    def __init__(self):\n",
    "        self.name=input(\"Enter name: \")\n",
    "        self.address=input(\"Enter address: \")\n",
    "        \n",
    "    def my_profile(self):\n",
    "        print(self.name,self.address)\n",
    "\n",
    "class Info(Profile):\n",
    "    def info(self):\n",
    "        print(f\"Hello  my name is {self.name} and I live in {self.address}\")\n",
    "        \n",
    "obj = Info()\n",
    "# obj1 = Profile()\n",
    "obj.info()\n",
    "obj.my_profile()"
   ]
  },
  {
   "cell_type": "code",
   "execution_count": 13,
   "id": "fcd66559",
   "metadata": {},
   "outputs": [
    {
     "name": "stdout",
     "output_type": "stream",
     "text": [
      "This is class A\n",
      "This is class B\n",
      "This is class C\n"
     ]
    }
   ],
   "source": [
    "# Multi-level inheritane\n",
    "class A:\n",
    "    print(\"This is class A\")\n",
    "    \n",
    "class B(A):\n",
    "    print(\"This is class B\")\n",
    "    \n",
    "class C(B):\n",
    "    print(\"This is class C\")\n",
    "    \n",
    "obj = C()"
   ]
  },
  {
   "cell_type": "code",
   "execution_count": 11,
   "id": "111c490c",
   "metadata": {},
   "outputs": [
    {
     "name": "stdout",
     "output_type": "stream",
     "text": [
      "Hello  my name is Hari and I live in Nuwakot\n"
     ]
    }
   ],
   "source": [
    "# MUltilevel inheritance\n",
    "class Name:\n",
    "    def __init__(self,name):\n",
    "        self.name=name\n",
    "\n",
    "class Add(Name):\n",
    "    def __init__(self,add):\n",
    "        self.add=add\n",
    "        \n",
    "class Info(Add):\n",
    "    def __init__(self,name,add):\n",
    "        Name.__init__(self,name)\n",
    "        Add.__init__(self,add)\n",
    "        \n",
    "    def info(self):\n",
    "        print(f\"Hello  my name is {self.name} and I live in {self.add}\")\n",
    "        \n",
    "        \n",
    "obj = Info('Hari','Nuwakot')\n",
    "obj.info()"
   ]
  },
  {
   "cell_type": "code",
   "execution_count": 53,
   "id": "f15e16c8",
   "metadata": {},
   "outputs": [
    {
     "name": "stdout",
     "output_type": "stream",
     "text": [
      "Hello  my name is Hari and I live in Nuwakot\n"
     ]
    }
   ],
   "source": [
    "# Multiple Inheritance\n",
    "class Name:\n",
    "    def __init__(self,fname):\n",
    "        self.name=fname\n",
    "\n",
    "class Add:\n",
    "    def __init__(self,address):\n",
    "        self.add=address\n",
    "        \n",
    "class Info(Name,Add):\n",
    "    def __init__(self,fname,address):\n",
    "        Name.__init__(self,fname)\n",
    "        Add.__init__(self,address)\n",
    "        \n",
    "    def info(self):\n",
    "        print(f\"Hello  my name is {self.name} and I live in {self.add}\")\n",
    "        \n",
    "        \n",
    "obj = Info('Hari','Nuwakot')\n",
    "obj.info()"
   ]
  },
  {
   "cell_type": "code",
   "execution_count": 110,
   "id": "dbdcbadb",
   "metadata": {},
   "outputs": [
    {
     "name": "stdout",
     "output_type": "stream",
     "text": [
      "Hello  my name is Hari and I live in Pokhara \n"
     ]
    }
   ],
   "source": [
    "#  Simple Inheritance using the constructor in both methods\n",
    "class Name:\n",
    "    def __init__(self,fname):\n",
    "        self.name=fname\n",
    "        \n",
    "class Add(Name):\n",
    "    def __init__(this,name,address):\n",
    "        Name.__init__(this,name)\n",
    "        this.add=address\n",
    "    \n",
    "    def information(other):\n",
    "        print(f\"Hello  my name is {other.name} and I live in {other.add} \")\n",
    "        \n",
    "obj = Add('Hari',\"Pokhara\")\n",
    "obj.information()"
   ]
  },
  {
   "cell_type": "code",
   "execution_count": null,
   "id": "e2583254",
   "metadata": {},
   "outputs": [],
   "source": []
  }
 ],
 "metadata": {
  "kernelspec": {
   "display_name": "Python 3",
   "language": "python",
   "name": "python3"
  },
  "language_info": {
   "codemirror_mode": {
    "name": "ipython",
    "version": 3
   },
   "file_extension": ".py",
   "mimetype": "text/x-python",
   "name": "python",
   "nbconvert_exporter": "python",
   "pygments_lexer": "ipython3",
   "version": "3.8.8"
  }
 },
 "nbformat": 4,
 "nbformat_minor": 5
}
