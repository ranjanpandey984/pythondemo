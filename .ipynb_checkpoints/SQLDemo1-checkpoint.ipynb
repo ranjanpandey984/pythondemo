{
 "cells": [
  {
   "cell_type": "code",
   "execution_count": 1,
   "id": "aa834608",
   "metadata": {},
   "outputs": [],
   "source": [
    "import mysql.connector as sql #Importing package\n",
    "database=sql.connect(         #Connecting to database\n",
    "    host=\"localhost\",\n",
    "    user=\"root\",\n",
    "    password=\"\",\n",
    "    database=\"broadwaysqldemo\"\n",
    ")\n",
    "db=database.cursor()          # Connection hold garera bascha"
   ]
  },
  {
   "cell_type": "code",
   "execution_count": 4,
   "id": "8fb5ff30",
   "metadata": {},
   "outputs": [
    {
     "name": "stdout",
     "output_type": "stream",
     "text": [
      "(1, 'Hari Adhikari', 78, 98, 99, 75, 67, 455, 455, 85.0, 'A')\n",
      "(2, 'Ram Panta', 55, 86, 76, 67, 78, 388, 388, 79.0, 'B+')\n"
     ]
    }
   ],
   "source": [
    "# Selecting all data from profile table\n",
    "db.execute(\"SELECT * FROM profile\")\n",
    "result=db.fetchall()\n",
    "for x in result:\n",
    "    print(x)\n"
   ]
  },
  {
   "cell_type": "code",
   "execution_count": 8,
   "id": "7e391ced",
   "metadata": {},
   "outputs": [
    {
     "name": "stdout",
     "output_type": "stream",
     "text": [
      "(1, 'Hari Adhikari', 78, 98, 99, 75)\n",
      "(2, 'Ram Panta', 55, 86, 76, 67)\n"
     ]
    }
   ],
   "source": [
    "# Selecting certain data from profile table\n",
    "db.execute(\"SELECT `Sn`, `name`, `physics`, `chemistry`, `maths`, `english` FROM profile WHERE 1\")\n",
    "result=db.fetchall()\n",
    "for x in result:\n",
    "    print(x)\n"
   ]
  },
  {
   "cell_type": "code",
   "execution_count": 24,
   "id": "973cb5e8",
   "metadata": {},
   "outputs": [
    {
     "name": "stdout",
     "output_type": "stream",
     "text": [
      "(1, 'Hari Adhikari', 78, 98, 99, 75, 'A')\n",
      "(2, 'Ram Panta', 55, 86, 76, 67, 'B+')\n"
     ]
    }
   ],
   "source": [
    "db.execute(\"SELECT `Sn`, `name`, `physics`, `chemistry`, `maths`, `english`,`grade` FROM profile WHERE maths>20\")\n",
    "result=db.fetchall()\n",
    "for x in result:\n",
    "    print(x)\n"
   ]
  },
  {
   "cell_type": "code",
   "execution_count": 40,
   "id": "e8b4a41f",
   "metadata": {},
   "outputs": [
    {
     "name": "stdout",
     "output_type": "stream",
     "text": [
      "(1, 'Hari Adhikari', 78, 98, 99)\n"
     ]
    }
   ],
   "source": [
    "db.execute(\"SELECT `Sn`, `name`, `physics`, `chemistry`, `maths` from profile where grade='A'\")\n",
    "result=db.fetchall()\n",
    "for x in result:\n",
    "    print(x)"
   ]
  },
  {
   "cell_type": "code",
   "execution_count": 8,
   "id": "2c07bc00",
   "metadata": {},
   "outputs": [
    {
     "name": "stdout",
     "output_type": "stream",
     "text": [
      "(1, 'Hari Adhikari', 78, 98, 99, 75, 67, 455, 85.0, 'A', 'He is good boy')\n"
     ]
    }
   ],
   "source": [
    "# Checking condition in data using LIKE\n",
    "db.execute(\"SELECT * FROM profile WHERE bio LIKE '%good%'\")\n",
    "result=db.fetchall()\n",
    "for x in result:\n",
    "    print(x)"
   ]
  },
  {
   "cell_type": "code",
   "execution_count": 22,
   "id": "1623b8e0",
   "metadata": {},
   "outputs": [
    {
     "name": "stdout",
     "output_type": "stream",
     "text": [
      "1 record inserted.\n"
     ]
    }
   ],
   "source": [
    "# Insert in database\n",
    "sqlquery=\"INSERT INTO profile (name,physics,chemistry,maths,english,nepal,total,percentage,grade,bio) VALUES ('Rasmika',89,65,89,98,78,467,89.09,'A','Good Result')\"\n",
    "db.execute(sqlquery)\n",
    "database.commit()\n",
    "print(db.rowcount,\"record inserted.\")"
   ]
  },
  {
   "cell_type": "code",
   "execution_count": 23,
   "id": "9ec33fa0",
   "metadata": {},
   "outputs": [
    {
     "name": "stdout",
     "output_type": "stream",
     "text": [
      "Enter n: 1\n",
      "Enter name: Ranjan\n",
      "Enter physics marks: 87\n",
      "Enter chemistry marks: 78\n",
      "Enter  math marks: 97\n",
      "Enter english marks: 87\n",
      "Enter nepali marks: 78\n",
      "Enter bio: Keep it up\n",
      "1 record inserted.\n"
     ]
    }
   ],
   "source": [
    "# Dynamic insert in sql\n",
    "n=int(input(\"Enter n: \"))\n",
    "for i in range(n):\n",
    "    name=input(\"Enter name: \")\n",
    "    phy=int(input(\"Enter physics marks: \"))\n",
    "    che=int(input(\"Enter chemistry marks: \"))\n",
    "    math=int(input(\"Enter  math marks: \"))\n",
    "    eng=int(input(\"Enter english marks: \"))\n",
    "    nep=int(input(\"Enter nepali marks: \"))\n",
    "    total=sum([phy,che,math,eng,nep])\n",
    "    per=total/5\n",
    "    if per>=80:\n",
    "        grade='A'\n",
    "    elif per >= 60:\n",
    "        grade='B'\n",
    "    elif per >=45:\n",
    "        grade='C'\n",
    "    else:\n",
    "        grade='D'\n",
    "    bio=input(\"Enter bio: \")\n",
    "    sql=f\"INSERT INTO profile(name,physics,chemistry,maths,english,nepal,total,percentage,grade,bio) VALUES ('{name}',{phy},{che},{math},{eng},{nep},{total},{per},'{grade}','{bio}')\"\n",
    "    db.execute(sql)\n",
    "database.commit()\n",
    "print(db.rowcount,\"record inserted.\")"
   ]
  },
  {
   "cell_type": "code",
   "execution_count": 24,
   "id": "3b571162",
   "metadata": {},
   "outputs": [
    {
     "name": "stdout",
     "output_type": "stream",
     "text": [
      "INSERT INTO profile(name,physics,chemistry,maths,english,nepal,total,percentage,grade,bio) VALUES ('Ranjan',87,78,97,87,78,427,85.4,'A','Keep it up')\n"
     ]
    }
   ],
   "source": [
    "print(sql)"
   ]
  },
  {
   "cell_type": "code",
   "execution_count": 3,
   "id": "d623219f",
   "metadata": {},
   "outputs": [
    {
     "name": "stdout",
     "output_type": "stream",
     "text": [
      "Enter SN:1\n",
      "Enter name: Hari Adhikari\n",
      "UPDATE profile SET name = 'Hari Adhikari' WHERE sn = 1\n",
      "1 Record updated.\n"
     ]
    }
   ],
   "source": [
    "# Update\n",
    "Sn=int(input(\"Enter SN:\"))\n",
    "name=input(\"Enter name: \")\n",
    "sql=f\"UPDATE profile SET name = '{name}' WHERE sn = {Sn}\"\n",
    "print(sql)\n",
    "db.execute(sql)\n",
    "database.commit()\n",
    "print(db.rowcount,\"Record updated.\")"
   ]
  },
  {
   "cell_type": "code",
   "execution_count": 7,
   "id": "e72ae6f9",
   "metadata": {},
   "outputs": [],
   "source": [
    "# DELETE \n",
    "sql=\"DELETE FROM profile WHERE name='Ram Panta'\""
   ]
  },
  {
   "cell_type": "code",
   "execution_count": 10,
   "id": "8bc0cbb7",
   "metadata": {},
   "outputs": [
    {
     "name": "stdout",
     "output_type": "stream",
     "text": [
      "Enter SN:2\n",
      "DELETE FROM profile WHERE Sn = 2\n"
     ]
    }
   ],
   "source": [
    "# Dynamic Deleting\n",
    "Sn=int(input(\"Enter SN:\"))\n",
    "sql=f\"DELETE FROM profile WHERE Sn = {Sn}\"\n",
    "print(sql)\n",
    "db.execute(sql)\n",
    "database.commit()"
   ]
  },
  {
   "cell_type": "code",
   "execution_count": 16,
   "id": "9720f39b",
   "metadata": {},
   "outputs": [
    {
     "name": "stdout",
     "output_type": "stream",
     "text": [
      "Enter SN: 1\n",
      "Enter subject name(phy,che,math,eng,nep) i.e. (0,1,2,3,4):1\n",
      "Enter Marks in the subject: 76\n",
      "[100, 100, 78, 75, 67]\n",
      "UPDATE profile SET chemistry=76, total=396, percentage=79.2 WHERE Sn=1\n"
     ]
    }
   ],
   "source": [
    "# Assignment 3:\n",
    "id=int(input(\"Enter SN: \"))\n",
    "subject=int(input(\"Enter subject name(phy,che,math,eng,nep) i.e. (0,1,2,3,4):\"))\n",
    "if(subject == 0):\n",
    "    sub=\"physics\"\n",
    "elif(subject == 1):\n",
    "    sub=\"chemistry\"\n",
    "elif(subject == 2):\n",
    "    sub=\"maths\"\n",
    "elif(subject == 3):\n",
    "    sub=\"english\"\n",
    "else:\n",
    "    sub=\"nepal\"\n",
    "marks=int(input(\"Enter Marks in the subject: \"))\n",
    "\n",
    "#Fetching data\n",
    "db.execute(f\"SELECT physics,chemistry,maths,english,nepal FROM profile WHERE Sn= {id}\")\n",
    "result=db.fetchall()\n",
    "l=list(result[0])\n",
    "print(l)\n",
    "\n",
    "l[subject] = marks\n",
    "total=sum(l)\n",
    "per=total/5\n",
    "\n",
    "\n",
    "# UPDATE QUERY\n",
    "sql=f\"UPDATE profile SET {sub}={marks}, total={total}, percentage={per} WHERE Sn={id}\"\n",
    "print(sql)\n",
    "db.execute(sql)\n",
    "database.commit()"
   ]
  },
  {
   "cell_type": "code",
   "execution_count": null,
   "id": "3a8b5ec0",
   "metadata": {},
   "outputs": [],
   "source": []
  }
 ],
 "metadata": {
  "kernelspec": {
   "display_name": "Python 3",
   "language": "python",
   "name": "python3"
  },
  "language_info": {
   "codemirror_mode": {
    "name": "ipython",
    "version": 3
   },
   "file_extension": ".py",
   "mimetype": "text/x-python",
   "name": "python",
   "nbconvert_exporter": "python",
   "pygments_lexer": "ipython3",
   "version": "3.8.8"
  }
 },
 "nbformat": 4,
 "nbformat_minor": 5
}
