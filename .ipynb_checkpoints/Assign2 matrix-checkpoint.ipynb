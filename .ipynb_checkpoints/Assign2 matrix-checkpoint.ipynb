{
 "cells": [
  {
   "cell_type": "code",
   "execution_count": 2,
   "id": "1bfdd3bb",
   "metadata": {},
   "outputs": [
    {
     "name": "stdout",
     "output_type": "stream",
     "text": [
      "Enter the number of rows for matrix: 2\n",
      "Enter the number of columns for matrix: 2\n",
      "Enter data: 1\n",
      "Enter data: 2\n",
      "Enter data: 3\n",
      "Enter data: 4\n",
      "\n",
      "The Generated matrix is:\n",
      "1\t2\t\n",
      "\n",
      "3\t4\t\n",
      "\n"
     ]
    }
   ],
   "source": [
    "a=[]\n",
    "row=int(input(\"Enter the number of rows for matrix: \"))\n",
    "col=int(input(\"Enter the number of columns for matrix: \"))\n",
    "for i in range(row):\n",
    "    b=[]\n",
    "    for j in range(col):\n",
    "        data=int(input(\"Enter data: \"))\n",
    "        b.append(data)\n",
    "    a.append(b)\n",
    "\n",
    "print(\"\\nThe Generated matrix is:\")\n",
    "for i in range(row):\n",
    "    for j in range(col):\n",
    "        print(a[i][j],end=\"\\t\")\n",
    "    print(\"\\n\")\n"
   ]
  },
  {
   "cell_type": "code",
   "execution_count": 7,
   "id": "7dafe629",
   "metadata": {},
   "outputs": [
    {
     "name": "stdout",
     "output_type": "stream",
     "text": [
      "[1, 2, 3, 'Ram', [2, 3, 4, 'Shyam']]\n"
     ]
    }
   ],
   "source": [
    "a=[1,2,3,\"Ram\"]\n",
    "b=[2,3,4,\"Shyam\"]\n",
    "c=a+[b]\n",
    "print(c)"
   ]
  },
  {
   "cell_type": "code",
   "execution_count": null,
   "id": "57a972ed",
   "metadata": {},
   "outputs": [],
   "source": [
    "#INTERNET SOLUTION\n",
    "R = int(input(\"Enter the number of rows:\")) \n",
    "C = int(input(\"Enter the number of columns:\")) \n",
    "  \n",
    "# Initialize matrix \n",
    "matrix = [] \n",
    "print(\"Enter the entries rowwise:\") \n",
    "  \n",
    "# For user input \n",
    "for i in range(R):          # A for loop for row entries \n",
    "    a =[] \n",
    "    for j in range(C):      # A for loop for column entries \n",
    "         a.append(int(input())) \n",
    "    matrix.append(a) \n",
    "  \n",
    "# For printing the matrix \n",
    "for i in range(R): \n",
    "    for j in range(C): \n",
    "        print(matrix[i][j], end = \" \") \n",
    "    print()"
   ]
  },
  {
   "cell_type": "code",
   "execution_count": null,
   "id": "e4131c8b",
   "metadata": {},
   "outputs": [],
   "source": []
  }
 ],
 "metadata": {
  "kernelspec": {
   "display_name": "Python 3",
   "language": "python",
   "name": "python3"
  },
  "language_info": {
   "codemirror_mode": {
    "name": "ipython",
    "version": 3
   },
   "file_extension": ".py",
   "mimetype": "text/x-python",
   "name": "python",
   "nbconvert_exporter": "python",
   "pygments_lexer": "ipython3",
   "version": "3.8.8"
  }
 },
 "nbformat": 4,
 "nbformat_minor": 5
}
