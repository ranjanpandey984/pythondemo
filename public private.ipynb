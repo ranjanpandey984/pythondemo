{
 "cells": [
  {
   "cell_type": "code",
   "execution_count": 1,
   "id": "2e2fbeb8",
   "metadata": {},
   "outputs": [],
   "source": [
    "# Public Private and Protected Access"
   ]
  },
  {
   "cell_type": "code",
   "execution_count": 6,
   "id": "2fae0696",
   "metadata": {},
   "outputs": [
    {
     "name": "stdout",
     "output_type": "stream",
     "text": [
      "Hari\n",
      "Nepal\n"
     ]
    }
   ],
   "source": [
    "# Public Example\n",
    "class Profile:\n",
    "    def __init__(self,name,add):\n",
    "        self.name = name\n",
    "        self.address = add\n",
    "\n",
    "obj = Profile(\"Hari\",\"Nepal\")\n",
    "print(obj.name)\n",
    "print(obj.address)"
   ]
  },
  {
   "cell_type": "code",
   "execution_count": 8,
   "id": "7b55fa6f",
   "metadata": {},
   "outputs": [
    {
     "name": "stdout",
     "output_type": "stream",
     "text": [
      "Hari\n",
      "Nepal\n"
     ]
    }
   ],
   "source": [
    "# Protected Example\n",
    "class Profile:\n",
    "    def __init__(self,name,add):\n",
    "        self._name = name\n",
    "        self._address = add         #Single underscore\n",
    "\n",
    "obj = Profile(\"Hari\",\"Nepal\")\n",
    "print(obj._name)                 #Single underscore\n",
    "print(obj._address)"
   ]
  },
  {
   "cell_type": "code",
   "execution_count": 11,
   "id": "f6cca47d",
   "metadata": {},
   "outputs": [
    {
     "name": "stdout",
     "output_type": "stream",
     "text": [
      "Hari\n",
      "Nepal\n"
     ]
    }
   ],
   "source": [
    "# Private Example\n",
    "class Profile:\n",
    "    def __init__(self,name,add):\n",
    "        self.__name = name         #Double underscore\n",
    "        self.__address = add\n",
    "\n",
    "obj = Profile(\"Hari\",\"Nepal\")\n",
    "print(obj._Profile__name)           #Class underscore\n",
    "print(obj._Profile__address)"
   ]
  },
  {
   "cell_type": "code",
   "execution_count": 12,
   "id": "495fba57",
   "metadata": {},
   "outputs": [
    {
     "name": "stdout",
     "output_type": "stream",
     "text": [
      "Hello  my name is Hari and I live in Pokhara \n"
     ]
    }
   ],
   "source": [
    "#  Simple Inheritance using the constructor in both methods\n",
    "class Name:\n",
    "    def __init__(self,fname):\n",
    "        self.name=fname\n",
    "        \n",
    "class Add(Name):\n",
    "    def __init__(this,name,address):\n",
    "        Name.__init__(this,name)\n",
    "        this.add=address\n",
    "    \n",
    "    def information(other):\n",
    "        print(f\"Hello  my name is {other.name} and I live in {other.add} \")\n",
    "        \n",
    "obj = Add('Hari',\"Pokhara\")\n",
    "obj.information()"
   ]
  },
  {
   "cell_type": "code",
   "execution_count": 13,
   "id": "10384b0a",
   "metadata": {},
   "outputs": [],
   "source": [
    "# Static method and decorator"
   ]
  },
  {
   "cell_type": "code",
   "execution_count": 15,
   "id": "7e280fe0",
   "metadata": {},
   "outputs": [
    {
     "data": {
      "text/plain": [
       "10"
      ]
     },
     "execution_count": 15,
     "metadata": {},
     "output_type": "execute_result"
    }
   ],
   "source": [
    "class Info:\n",
    "    def __init__(self,name,age):\n",
    "        self.name = name\n",
    "        self.age = age\n",
    "    \n",
    "    @staticmethod\n",
    "    def age(a):\n",
    "        return a\n",
    "    \n",
    "obj = Info(\"Ram\",23)\n",
    "Info.age(10)"
   ]
  },
  {
   "cell_type": "code",
   "execution_count": 17,
   "id": "2f3b742d",
   "metadata": {},
   "outputs": [
    {
     "data": {
      "text/plain": [
       "10"
      ]
     },
     "execution_count": 17,
     "metadata": {},
     "output_type": "execute_result"
    }
   ],
   "source": [
    "# Sir\n",
    "class Info:\n",
    "    def __init__(self,name,ag):\n",
    "        self.name = name\n",
    "        self.ag = ag\n",
    "    \n",
    "    @staticmethod    #DECORATOR\n",
    "    def age(a):\n",
    "        return a\n",
    "    \n",
    "obj = Info(\"Ram\",23)\n",
    "obj.age(10)"
   ]
  },
  {
   "cell_type": "code",
   "execution_count": 27,
   "id": "3525df14",
   "metadata": {},
   "outputs": [
    {
     "name": "stdout",
     "output_type": "stream",
     "text": [
      "Shyam\n",
      "59\n"
     ]
    },
    {
     "data": {
      "text/plain": [
       "10"
      ]
     },
     "execution_count": 27,
     "metadata": {},
     "output_type": "execute_result"
    }
   ],
   "source": [
    "# Sir\n",
    "class Info:\n",
    "    def __init__(self,name,ag):\n",
    "        self.name = name\n",
    "        self.ag = ag\n",
    "    \n",
    "    @classmethod\n",
    "    def information(cls,na,age):\n",
    "        return cls(na,age)\n",
    "    \n",
    "    @staticmethod    #DECORATOR\n",
    "    def age(a):\n",
    "        return a\n",
    "    \n",
    "obj = Info(\"Ram\",23)\n",
    "obj1 = Info.information(\"Shyam\",59)\n",
    "print(obj1.name)\n",
    "print(obj1.ag)\n",
    "# print(obj1.age)\n",
    "obj.age(10)"
   ]
  },
  {
   "cell_type": "code",
   "execution_count": null,
   "id": "4d1d162f",
   "metadata": {},
   "outputs": [],
   "source": [
    "# decorator system ma kei modify nagari execute garcha\n"
   ]
  }
 ],
 "metadata": {
  "kernelspec": {
   "display_name": "Python 3",
   "language": "python",
   "name": "python3"
  },
  "language_info": {
   "codemirror_mode": {
    "name": "ipython",
    "version": 3
   },
   "file_extension": ".py",
   "mimetype": "text/x-python",
   "name": "python",
   "nbconvert_exporter": "python",
   "pygments_lexer": "ipython3",
   "version": "3.8.8"
  }
 },
 "nbformat": 4,
 "nbformat_minor": 5
}
