{
 "cells": [
  {
   "cell_type": "code",
   "execution_count": 2,
   "id": "8f7f8349",
   "metadata": {},
   "outputs": [
    {
     "name": "stdout",
     "output_type": "stream",
     "text": [
      "<class 'dict'>\n"
     ]
    }
   ],
   "source": [
    "a=dict()\n",
    "print(type(a))"
   ]
  },
  {
   "cell_type": "code",
   "execution_count": 4,
   "id": "588ffb3a",
   "metadata": {},
   "outputs": [
    {
     "name": "stdout",
     "output_type": "stream",
     "text": [
      "Enter n: 2\n",
      "Enter name: Ram\n",
      "Enter address: Tokha\n",
      "Enter name: Shyam\n",
      "Enter address: Gangabu\n",
      "{'Ram': 'Tokha', 'Shyam': 'Gangabu'}\n"
     ]
    }
   ],
   "source": [
    "#User defined dictionary\n",
    "a={}\n",
    "n=int(input(\"Enter n: \"))\n",
    "for i in range(n):\n",
    "    name=input(\"Enter name: \")\n",
    "    address=input(\"Enter address: \")\n",
    "    a[name]=address\n",
    "print(a)"
   ]
  },
  {
   "cell_type": "code",
   "execution_count": 2,
   "id": "6f43ea9f",
   "metadata": {},
   "outputs": [
    {
     "name": "stdout",
     "output_type": "stream",
     "text": [
      "enter n:2\n",
      "Enter name: Ram\n",
      "Enter age: 21\n",
      "enter address:Tokha\n",
      "Enter name: Rahan\n",
      "Enter age: 32\n",
      "enter address:gangabu\n",
      "[{'Name': 'Ram', 'Age': 21, 'Address': 'Tokha'}, {'Name': 'Rahan', 'Age': 32, 'Address': 'gangabu'}]\n"
     ]
    }
   ],
   "source": [
    "#Creating dictionary inside list\n",
    "a=[]\n",
    "n=int(input(\"enter n:\"))\n",
    "for i in range(n):\n",
    "    name=input(\"Enter name: \")\n",
    "    age=int(input(\"Enter age: \"))\n",
    "    add=input(\"enter address:\")\n",
    "    d={\"Name\": name, \"Age\": age, \"Address\": add}\n",
    "    a.append(d)\n",
    "print(a)"
   ]
  },
  {
   "cell_type": "code",
   "execution_count": 3,
   "id": "6d148c38",
   "metadata": {},
   "outputs": [
    {
     "name": "stdout",
     "output_type": "stream",
     "text": [
      "{'Name': 'Ram', 'Age': 21, 'Address': 'Tokha'} \n",
      "\n",
      "{'Name': 'Rahan', 'Age': 32, 'Address': 'gangabu'} \n",
      "\n"
     ]
    }
   ],
   "source": [
    "a=[{'Name': 'Ram', 'Age': 21, 'Address': 'Tokha'}, {'Name': 'Rahan', 'Age': 32, 'Address': 'gangabu'}]\n",
    "for i in a:\n",
    "    print(i,\"\\n\")"
   ]
  },
  {
   "cell_type": "code",
   "execution_count": 8,
   "id": "61b8b26c",
   "metadata": {},
   "outputs": [
    {
     "name": "stdout",
     "output_type": "stream",
     "text": [
      "dict_values(['Ram', 21, 'Tokha'])\n",
      "dict_values(['Rahan', 32, 'gangabu'])\n"
     ]
    }
   ],
   "source": [
    "#Reading values from dictionary inside list\n",
    "a=[{'Name': 'Ram', 'Age': 21, 'Address': 'Tokha'}, {'Name': 'Rahan', 'Age': 32, 'Address': 'gangabu'}]\n",
    "for i in a:\n",
    "    print(i.values())"
   ]
  },
  {
   "cell_type": "code",
   "execution_count": 7,
   "id": "090c4224",
   "metadata": {},
   "outputs": [
    {
     "name": "stdout",
     "output_type": "stream",
     "text": [
      "dict_items([('Name', 'Ram'), ('Age', 21), ('Address', 'Tokha')])\n",
      "dict_items([('Name', 'Rahan'), ('Age', 32), ('Address', 'gangabu')])\n"
     ]
    }
   ],
   "source": [
    "a=[{'Name': 'Ram', 'Age': 21, 'Address': 'Tokha'},\n",
    "   {'Name': 'Rahan', 'Age': 32, 'Address': 'gangabu'}]\n",
    "for i in a:\n",
    "    print(i.items())"
   ]
  },
  {
   "cell_type": "code",
   "execution_count": 6,
   "id": "f7645e46",
   "metadata": {},
   "outputs": [
    {
     "name": "stdout",
     "output_type": "stream",
     "text": [
      "{'Name': 'Ram', 'Age': 21, 'Address': 'Tokha'}\n"
     ]
    }
   ],
   "source": [
    "#Filtering or searching data\n",
    "a=[{'Name': 'Ram', 'Age': 21, 'Address': 'Tokha'},\n",
    "   {'Name': 'Rahan', 'Age': 32, 'Address': 'gangabu'}]\n",
    "for i in a:\n",
    "    if i[\"Name\"] == \"Ram\":\n",
    "        print(i)"
   ]
  },
  {
   "cell_type": "code",
   "execution_count": 11,
   "id": "fd23f622",
   "metadata": {},
   "outputs": [
    {
     "name": "stdout",
     "output_type": "stream",
     "text": [
      "[{'Name': 'Ram', 'Age': 21, 'Address': 'Tokha', 'Post': 'Manager'}, {'Name': 'Rahan', 'Age': 32, 'Address': 'gangabu'}]\n"
     ]
    }
   ],
   "source": [
    "#Adding values \n",
    "a=[{'Name': 'Ram', 'Age': 21, 'Address': 'Tokha'},\n",
    "   {'Name': 'Rahan', 'Age': 32, 'Address': 'gangabu'}]\n",
    "a[0][\"Post\"]=\"Manager\"\n",
    "print(a)"
   ]
  },
  {
   "cell_type": "code",
   "execution_count": 13,
   "id": "e046c45d",
   "metadata": {},
   "outputs": [
    {
     "name": "stdout",
     "output_type": "stream",
     "text": [
      "Enter n: 2\n",
      "Enter name: Ram\n",
      "Enter ntc: 9832423423\n",
      "Enter ncell: 9803242342\n",
      "Enter name: Shyam\n",
      "Enter ntc: 9843232323\n",
      "Enter ncell: 980343345223\n",
      "{'Ram': {'ntc': '9832423423', 'ncell': '9803242342'}, 'Shyam': {'ntc': '9843232323', 'ncell': '980343345223'}}\n"
     ]
    }
   ],
   "source": [
    "#Creating dictionary inside dictionary\n",
    "d1={}\n",
    "n=int(input(\"Enter n: \"))\n",
    "for i in range(n):\n",
    "    name=input(\"Enter name: \")\n",
    "    ntc=input(\"Enter ntc: \")\n",
    "    ncell = input(\"Enter ncell: \")\n",
    "    d2={\"ntc\":ntc, \"ncell\":ncell}\n",
    "    d1[name]=d2\n",
    "print(d1)"
   ]
  },
  {
   "cell_type": "code",
   "execution_count": 16,
   "id": "a74beaa9",
   "metadata": {},
   "outputs": [
    {
     "name": "stdout",
     "output_type": "stream",
     "text": [
      "{'Ram': {'ntc': '9832423423', 'ncell': '9803242342'}, 'Shyam': {'ntc': '9843232323', 'ncell': '980343345223'}, 'Hari': {'ntc': 98324323423, 'ncell': 9832423423}}\n"
     ]
    }
   ],
   "source": [
    "#Adding new values in dictionary inside dictionary\n",
    "a={'Ram': {'ntc': '9832423423', 'ncell': '9803242342'}, \n",
    "   'Shyam': {'ntc': '9843232323', 'ncell': '980343345223'}}\n",
    "a[\"Hari\"]={}\n",
    "a[\"Hari\"][\"ntc\"]=98324323423\n",
    "a[\"Hari\"][\"ncell\"]=9832423423\n",
    "print(a)"
   ]
  },
  {
   "cell_type": "code",
   "execution_count": 24,
   "id": "65ede213",
   "metadata": {},
   "outputs": [
    {
     "name": "stdout",
     "output_type": "stream",
     "text": [
      "Enter ntc number: 98323\n",
      "{'ntc': 98323, 'ncell': 9803242342}\n"
     ]
    }
   ],
   "source": [
    "#Searching for ntc\n",
    "a={'Ram': {'ntc': 98323, 'ncell': 9803242342}, \n",
    "   'Shyam': {'ntc': 9843232323, 'ncell': 980343345223}}\n",
    "ntc=int(input(\"Enter ntc number: \"))\n",
    "for i in a.values():\n",
    "    if i['ntc'] == ntc:\n",
    "        print(i)"
   ]
  },
  {
   "cell_type": "code",
   "execution_count": 27,
   "id": "7018076c",
   "metadata": {},
   "outputs": [
    {
     "name": "stdout",
     "output_type": "stream",
     "text": [
      "Enter ntc number: 98323\n",
      "Ram\n"
     ]
    }
   ],
   "source": [
    "#Searching name as per ntc number\n",
    "a={'Ram': {'ntc': 98323, 'ncell': 9803242342}, \n",
    "   'Shyam': {'ntc': 9843232323, 'ncell': 980343345223}}\n",
    "ntc=int(input(\"Enter ntc number: \"))\n",
    "for i in a.items():\n",
    "    if i[1]['ntc'] == ntc:\n",
    "        print(i[0])"
   ]
  },
  {
   "cell_type": "code",
   "execution_count": 54,
   "id": "8add0354",
   "metadata": {},
   "outputs": [
    {
     "name": "stdout",
     "output_type": "stream",
     "text": [
      "{'ntc': 9832423423, 'ncell': 9803242342}\n",
      "{'ntc': 9843232323, 'ncell': 980343345223}\n"
     ]
    }
   ],
   "source": [
    "a={'Ram': {'ntc': 9832423423, 'ncell': 9803242342}, \n",
    "   'Shyam': {'ntc': 9843232323, 'ncell': 980343345223}}\n",
    "for i in a.items():\n",
    "    print(i[1])"
   ]
  },
  {
   "cell_type": "code",
   "execution_count": null,
   "id": "0529e5f1",
   "metadata": {},
   "outputs": [],
   "source": []
  }
 ],
 "metadata": {
  "kernelspec": {
   "display_name": "Python 3",
   "language": "python",
   "name": "python3"
  },
  "language_info": {
   "codemirror_mode": {
    "name": "ipython",
    "version": 3
   },
   "file_extension": ".py",
   "mimetype": "text/x-python",
   "name": "python",
   "nbconvert_exporter": "python",
   "pygments_lexer": "ipython3",
   "version": "3.8.8"
  }
 },
 "nbformat": 4,
 "nbformat_minor": 5
}
