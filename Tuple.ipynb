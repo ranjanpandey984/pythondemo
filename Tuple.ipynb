{
 "cells": [
  {
   "cell_type": "code",
   "execution_count": 1,
   "id": "f2bed9bf",
   "metadata": {},
   "outputs": [
    {
     "name": "stdout",
     "output_type": "stream",
     "text": [
      "<class 'tuple'>\n"
     ]
    }
   ],
   "source": [
    "a=()\n",
    "print(type(a))"
   ]
  },
  {
   "cell_type": "code",
   "execution_count": 6,
   "id": "b25b7f4a",
   "metadata": {},
   "outputs": [
    {
     "name": "stdout",
     "output_type": "stream",
     "text": [
      "[2, 3, 4, 12, 132]\n"
     ]
    }
   ],
   "source": [
    "a=(132,2,3,4,12)\n",
    "b= sorted(a)\n",
    "print(b)"
   ]
  },
  {
   "cell_type": "code",
   "execution_count": 9,
   "id": "3f16a4f5",
   "metadata": {},
   "outputs": [
    {
     "name": "stdout",
     "output_type": "stream",
     "text": [
      "n= 2\n",
      "Enter name:Sd\n",
      "Enter price:12\n",
      "Enter quantity:12\n",
      "Enter name:dsf\n",
      "Enter price:21\n",
      "Enter quantity:12\n",
      "(('Sd', 12, 12), ('dsf', 12, 21))\n"
     ]
    }
   ],
   "source": [
    "#Multidimensional or tuple inside tuple\n",
    "l=()\n",
    "n=int(input(\"n= \"))\n",
    "for i in range(n):\n",
    "    name=input(\"Enter name:\")\n",
    "    price=int(input(\"Enter price:\"))\n",
    "    qty=int(input(\"Enter quantity:\"))\n",
    "    total=price*qty\n",
    "    info=(name,qty,price)\n",
    "                                        #l=l+info --> Yo galti huncha, single single garera eutai tuple ma add garcha\n",
    "    l=l+(info,)\n",
    "print(l)"
   ]
  },
  {
   "cell_type": "code",
   "execution_count": 10,
   "id": "24d7850e",
   "metadata": {},
   "outputs": [
    {
     "name": "stdout",
     "output_type": "stream",
     "text": [
      "[(1, 2), (3, 4)]\n"
     ]
    }
   ],
   "source": [
    "a=((1,2),(3,4))\n",
    "a=list(a)\n",
    "print(a)"
   ]
  },
  {
   "cell_type": "code",
   "execution_count": 8,
   "id": "651f35b9",
   "metadata": {},
   "outputs": [
    {
     "name": "stdout",
     "output_type": "stream",
     "text": [
      "<class 'tuple'>\n"
     ]
    }
   ],
   "source": [
    "a=(\"String is\",)\n",
    "b=(\"Ram\",)\n",
    "# a.extend(b)\n",
    "print(type(a))"
   ]
  },
  {
   "cell_type": "code",
   "execution_count": null,
   "id": "e321afd6",
   "metadata": {},
   "outputs": [],
   "source": []
  },
  {
   "cell_type": "code",
   "execution_count": null,
   "id": "4a1f30c5",
   "metadata": {},
   "outputs": [],
   "source": []
  }
 ],
 "metadata": {
  "kernelspec": {
   "display_name": "Python 3",
   "language": "python",
   "name": "python3"
  },
  "language_info": {
   "codemirror_mode": {
    "name": "ipython",
    "version": 3
   },
   "file_extension": ".py",
   "mimetype": "text/x-python",
   "name": "python",
   "nbconvert_exporter": "python",
   "pygments_lexer": "ipython3",
   "version": "3.8.8"
  }
 },
 "nbformat": 4,
 "nbformat_minor": 5
}
