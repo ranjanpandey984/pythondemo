{
 "cells": [
  {
   "cell_type": "code",
   "execution_count": 6,
   "id": "9ce91484",
   "metadata": {},
   "outputs": [
    {
     "name": "stdout",
     "output_type": "stream",
     "text": [
      "65\n"
     ]
    }
   ],
   "source": [
    "name = 'A'\n",
    "d = ord(name) \n",
    "print(d)"
   ]
  },
  {
   "cell_type": "code",
   "execution_count": 10,
   "id": "3acd4b44",
   "metadata": {},
   "outputs": [
    {
     "name": "stdout",
     "output_type": "stream",
     "text": [
      "Ram Shyam Hari raju Harisaran\n",
      "Ram Shyam Hari raju Harisaran\n"
     ]
    }
   ],
   "source": [
    "x,y,z,a,b =input().split()\n",
    "print(x,y,z,a,b)"
   ]
  },
  {
   "cell_type": "code",
   "execution_count": 18,
   "id": "fb6ef980",
   "metadata": {},
   "outputs": [
    {
     "name": "stdout",
     "output_type": "stream",
     "text": [
      "Enter length: 43 65\n",
      "The area of rectangle is 2795\n"
     ]
    }
   ],
   "source": [
    "L,B=input(\"Enter length: \").split()\n",
    "a=int(L)*int(B)\n",
    "print(\"The area of rectangle is\",a)\n"
   ]
  },
  {
   "cell_type": "code",
   "execution_count": null,
   "id": "811ecc5c",
   "metadata": {},
   "outputs": [],
   "source": []
  }
 ],
 "metadata": {
  "kernelspec": {
   "display_name": "Python 3",
   "language": "python",
   "name": "python3"
  }
 },
 "nbformat": 4,
 "nbformat_minor": 5
}
