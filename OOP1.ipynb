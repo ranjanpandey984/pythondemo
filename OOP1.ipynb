{
 "cells": [
  {
   "cell_type": "code",
   "execution_count": 2,
   "id": "30117e6d",
   "metadata": {},
   "outputs": [
    {
     "name": "stdout",
     "output_type": "stream",
     "text": [
      "Hello\n"
     ]
    }
   ],
   "source": [
    "class Python:\n",
    "    print(\"Hello\")\n",
    "\n",
    "obj = Python()"
   ]
  },
  {
   "cell_type": "code",
   "execution_count": 2,
   "id": "eb2754ea",
   "metadata": {},
   "outputs": [
    {
     "name": "stdout",
     "output_type": "stream",
     "text": [
      "Hello\n"
     ]
    }
   ],
   "source": [
    "class Python:              #Class\n",
    "    def greet(self):          \n",
    "        print(\"Hello\")\n",
    "\n",
    "obj = Python()             #Initializes Class\n",
    "obj.greet()                #Calls method"
   ]
  },
  {
   "cell_type": "code",
   "execution_count": 5,
   "id": "cfb9a91a",
   "metadata": {},
   "outputs": [
    {
     "name": "stdout",
     "output_type": "stream",
     "text": [
      "Hello World\n",
      "<__main__.Python object at 0x000002286439F040>\n"
     ]
    }
   ],
   "source": [
    "# INIT method by passing value to class\n",
    "class Python:              #Class\n",
    "    def __init__(self,x):  #Constructor\n",
    "        self.h=x\n",
    "    \n",
    "    def __str__(self):\n",
    "        a = self.l * self.b\n",
    "        return f\"{a}\"\n",
    "    \n",
    "    def greet(self):          \n",
    "        print(self.h)\n",
    "\n",
    "obj = Python(\"Hello World\")             #Class bharilai use garna cha bhaney class bhitra rakhney or else method ma rakhney\n",
    "obj.greet()   \n",
    "print(obj.__str__())"
   ]
  },
  {
   "cell_type": "code",
   "execution_count": 4,
   "id": "a3762de6",
   "metadata": {},
   "outputs": [
    {
     "name": "stdout",
     "output_type": "stream",
     "text": [
      "Hello World\n"
     ]
    }
   ],
   "source": [
    "# Without INIT method by passing value to method\n",
    "class Python:              #Class\n",
    "    def greet(self,h):          \n",
    "        print(h)\n",
    "\n",
    "obj = Python()             #Initializes Class\n",
    "obj.greet(\"Hello World\")               #Class bharilai use garna cha bhaney class bhitra rakhney or else method ma rakhney"
   ]
  },
  {
   "cell_type": "code",
   "execution_count": 9,
   "id": "9491075f",
   "metadata": {},
   "outputs": [
    {
     "name": "stdout",
     "output_type": "stream",
     "text": [
      "60\n",
      "4 5\n"
     ]
    }
   ],
   "source": [
    "class Volume:\n",
    "    def __init__(self,l,b):\n",
    "        self.length=l\n",
    "        self.breadth=b\n",
    "        \n",
    "    def vol(self,h):\n",
    "        v = self.length * self.breadth * h\n",
    "        print(v)\n",
    "\n",
    "obj = Volume(4,5)\n",
    "obj.vol(3)\n",
    "print(obj.length,obj.breadth) #Printing inside variables"
   ]
  },
  {
   "cell_type": "code",
   "execution_count": 3,
   "id": "a0db04b4",
   "metadata": {},
   "outputs": [
    {
     "name": "stdout",
     "output_type": "stream",
     "text": [
      "60\n",
      "4 5\n"
     ]
    }
   ],
   "source": [
    "class Volume:\n",
    "    def __init__(self,l,b):\n",
    "        self.length=l\n",
    "        self.breadth=b\n",
    "        \n",
    "    def vol(this,h):\n",
    "        v = this.length * this.breadth * h\n",
    "        print(v)\n",
    "\n",
    "obj = Volume(4,5)\n",
    "obj.vol(3)\n",
    "print(obj.length,obj.breadth)"
   ]
  },
  {
   "cell_type": "code",
   "execution_count": null,
   "id": "96d838f5",
   "metadata": {},
   "outputs": [],
   "source": []
  }
 ],
 "metadata": {
  "kernelspec": {
   "display_name": "Python 3",
   "language": "python",
   "name": "python3"
  },
  "language_info": {
   "codemirror_mode": {
    "name": "ipython",
    "version": 3
   },
   "file_extension": ".py",
   "mimetype": "text/x-python",
   "name": "python",
   "nbconvert_exporter": "python",
   "pygments_lexer": "ipython3",
   "version": "3.8.8"
  }
 },
 "nbformat": 4,
 "nbformat_minor": 5
}
