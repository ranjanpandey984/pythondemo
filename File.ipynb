{
 "cells": [
  {
   "cell_type": "code",
   "execution_count": 3,
   "id": "fcfb368a",
   "metadata": {},
   "outputs": [],
   "source": [
    "#Modes in file \n",
    "# Read\n",
    "# Write\n",
    "# Append\n",
    "# X"
   ]
  },
  {
   "cell_type": "code",
   "execution_count": 4,
   "id": "fac58e26",
   "metadata": {},
   "outputs": [],
   "source": [
    "#Creates file data.txt in home directory \n",
    "b=open('data.txt','x')\n",
    "b.close()"
   ]
  },
  {
   "cell_type": "code",
   "execution_count": 7,
   "id": "a47f80bb",
   "metadata": {},
   "outputs": [
    {
     "name": "stdout",
     "output_type": "stream",
     "text": [
      "Hello Ranjan\n",
      "Hello Ranjan\n",
      "Hello Ranjan\n",
      "Hello Ranjan\n",
      "Hello Ranjan\n",
      "<class 'str'>\n"
     ]
    }
   ],
   "source": [
    "#Reading from data.txt\n",
    "b=open('data.txt','r')\n",
    "x=b.read()\n",
    "print(x)\n",
    "print(type(x))#type of x\n",
    "b.close()"
   ]
  },
  {
   "cell_type": "code",
   "execution_count": 10,
   "id": "cac72f28",
   "metadata": {},
   "outputs": [
    {
     "name": "stdout",
     "output_type": "stream",
     "text": [
      "1.Hello Ranjan\n",
      "\n",
      "Hello Ranjan\n",
      "\n"
     ]
    }
   ],
   "source": [
    "b=open('data.txt','r')\n",
    "print(b.readline())\n",
    "print(b.readline())\n",
    "b.close()"
   ]
  },
  {
   "cell_type": "code",
   "execution_count": 15,
   "id": "b90a5f04",
   "metadata": {},
   "outputs": [
    {
     "name": "stdout",
     "output_type": "stream",
     "text": [
      "Enter line no: 3\n",
      "3.Hello Ranjan\n",
      "\n"
     ]
    }
   ],
   "source": [
    "#Reading from any line we want\n",
    "n=int(input(\"Enter line no: \"))\n",
    "line=8\n",
    "b=open('data.txt','r')\n",
    "for i in range(1,line+1):\n",
    "    if i != n:\n",
    "        b.readline()\n",
    "    else:\n",
    "        print(b.readline())\n",
    "b.close()"
   ]
  },
  {
   "cell_type": "code",
   "execution_count": 17,
   "id": "903cf6b7",
   "metadata": {},
   "outputs": [
    {
     "name": "stdout",
     "output_type": "stream",
     "text": [
      "['1.Hello Ranjan', '2.Hello Ranjan', '3.Hello Ranjan', '4.Hello Ranjan', '5.Hello Ranjan']\n",
      "Enter line no: 3\n",
      "3.Hello Ranjan\n"
     ]
    }
   ],
   "source": [
    "#Reading from any line we want\n",
    "b=open('data.txt','r')\n",
    "x=b.read()\n",
    "y=x.split('\\n')\n",
    "print(y)\n",
    "b.close()\n",
    "\n",
    "line=int(input(\"Enter line no: \"))\n",
    "print(y[line-1])"
   ]
  },
  {
   "cell_type": "code",
   "execution_count": 22,
   "id": "ef34777a",
   "metadata": {},
   "outputs": [],
   "source": [
    "# Write mode  VS Append mode\n",
    "b=open('bill.txt','a')\n",
    "b.write(\"Hello Ranjan\")\n",
    "b.close()"
   ]
  },
  {
   "cell_type": "code",
   "execution_count": 23,
   "id": "cf0b9a58",
   "metadata": {},
   "outputs": [],
   "source": [
    "# Write mode  VS Append mode\n",
    "b=open('bill.txt','w')\n",
    "b.write(\"Hello Ranjan\")\n",
    "b.close()"
   ]
  },
  {
   "cell_type": "code",
   "execution_count": 30,
   "id": "d121067b",
   "metadata": {},
   "outputs": [
    {
     "name": "stdout",
     "output_type": "stream",
     "text": [
      "Enter n: 3\n",
      "Enter nameRam\n",
      "Enter age23\n",
      "Enter nameShyam\n",
      "Enter age43\n",
      "Enter nameHari\n",
      "Enter age53\n",
      "1,Ram,23\n",
      "2,Shyam,43\n",
      "3,Hari,53\n",
      "\n"
     ]
    }
   ],
   "source": [
    "#Writing in CSV file\n",
    "info=str()\n",
    "n=int(input(\"Enter n: \"))\n",
    "for i in range(1,n+1):\n",
    "    name=input(\"Enter name\")\n",
    "    age=int(input(\"Enter age\"))\n",
    "    fo= f\"{i},{name},{age}\\n\" # --> Comma dina parcha CSV filelai\n",
    "    info=info+fo\n",
    "print(info)\n",
    "\n",
    "a=open('info.csv','w')\n",
    "a.write('Sno,Name,Age\\n')\n",
    "a.write(info)\n",
    "a.close()"
   ]
  },
  {
   "cell_type": "code",
   "execution_count": null,
   "id": "47898064",
   "metadata": {},
   "outputs": [],
   "source": []
  }
 ],
 "metadata": {
  "kernelspec": {
   "display_name": "Python 3",
   "language": "python",
   "name": "python3"
  },
  "language_info": {
   "codemirror_mode": {
    "name": "ipython",
    "version": 3
   },
   "file_extension": ".py",
   "mimetype": "text/x-python",
   "name": "python",
   "nbconvert_exporter": "python",
   "pygments_lexer": "ipython3",
   "version": "3.8.8"
  }
 },
 "nbformat": 4,
 "nbformat_minor": 5
}
