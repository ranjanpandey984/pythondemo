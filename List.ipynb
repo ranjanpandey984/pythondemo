{
 "cells": [
  {
   "cell_type": "code",
   "execution_count": 1,
   "id": "6700c32f",
   "metadata": {},
   "outputs": [
    {
     "name": "stdout",
     "output_type": "stream",
     "text": [
      "Enter number: 2\n",
      "Enter name: Ram\n",
      "Enter name: Hari\n",
      "['Ram', 'Hari']\n"
     ]
    }
   ],
   "source": [
    "a=[]\n",
    "n=int(input(\"Enter number: \"))\n",
    "for i in range(n):\n",
    "    name=input(\"Enter name: \")\n",
    "    a= a+[name]#name lai list banako because list cannot be merged with string\n",
    "print(a)\n"
   ]
  },
  {
   "cell_type": "code",
   "execution_count": 5,
   "id": "7cc1b0d4",
   "metadata": {},
   "outputs": [
    {
     "name": "stdout",
     "output_type": "stream",
     "text": [
      "['1xray', 'Ball', 'big', 'ram']\n"
     ]
    }
   ],
   "source": [
    "#Permanent Sort\n",
    "a=[\"ram\",\"Ball\",\"big\",\"1xray\"]\n",
    "a.sort()\n",
    "print(a)"
   ]
  },
  {
   "cell_type": "code",
   "execution_count": 6,
   "id": "3483b7b0",
   "metadata": {},
   "outputs": [
    {
     "name": "stdout",
     "output_type": "stream",
     "text": [
      "['1xray', 'Ball', 'big', 'ram']\n"
     ]
    }
   ],
   "source": [
    "#Temporary sorting\n",
    "a=[\"ram\",\"Ball\",\"big\",\"1xray\"]\n",
    "b=sorted(a)\n",
    "print(b)"
   ]
  },
  {
   "cell_type": "code",
   "execution_count": 10,
   "id": "adb80b6e",
   "metadata": {},
   "outputs": [
    {
     "name": "stdout",
     "output_type": "stream",
     "text": [
      "['ball', 'Apple']\n"
     ]
    }
   ],
   "source": [
    "a=[\"ball\"]\n",
    "a.append(\"Apple\")\n",
    "print(a)\n"
   ]
  },
  {
   "cell_type": "code",
   "execution_count": 2,
   "id": "9458f4a3",
   "metadata": {},
   "outputs": [
    {
     "name": "stdout",
     "output_type": "stream",
     "text": [
      "<class 'complex'>\n",
      "1977405887408\n"
     ]
    }
   ],
   "source": [
    "#COMPLEX data type and its ID or Memory address\n",
    "b=1+2j\n",
    "print(type(b))\n",
    "print(id(b))"
   ]
  },
  {
   "cell_type": "code",
   "execution_count": 20,
   "id": "88cbb67d",
   "metadata": {},
   "outputs": [
    {
     "name": "stdout",
     "output_type": "stream",
     "text": [
      "1\n",
      "5\n",
      "15\n",
      "5\n"
     ]
    }
   ],
   "source": [
    "#Max Min and Sum\n",
    "a=[1,2,3,4,5]\n",
    "print(min(a))\n",
    "print(max(a))\n",
    "print(sum(a))\n",
    "ads=max(a)\n",
    "print(ads)"
   ]
  },
  {
   "cell_type": "code",
   "execution_count": 2,
   "id": "25b23aef",
   "metadata": {},
   "outputs": [
    {
     "name": "stdout",
     "output_type": "stream",
     "text": [
      "['Hari', 'Shyam', 'Gita']\n"
     ]
    }
   ],
   "source": [
    "a=[\"Hari\"]\n",
    "b=[\"Shyam\",\"Gita\"]\n",
    "a.extend(b)\n",
    "print(a)"
   ]
  },
  {
   "cell_type": "code",
   "execution_count": 23,
   "id": "6053d041",
   "metadata": {},
   "outputs": [
    {
     "name": "stdout",
     "output_type": "stream",
     "text": [
      "['Ram']\n"
     ]
    }
   ],
   "source": [
    "a=[\"Ram\",\"shyam\"]\n",
    "a.pop()\n",
    "print(a)"
   ]
  },
  {
   "cell_type": "code",
   "execution_count": 7,
   "id": "f33bde4e",
   "metadata": {},
   "outputs": [
    {
     "name": "stdout",
     "output_type": "stream",
     "text": [
      "['Ram', 'Raju', 'Hari', 'rajan'] \n",
      " shyam\n"
     ]
    }
   ],
   "source": [
    "a=[\"Ram\",\"shyam\",\"Raju\",\"Hari\",\"rajan\"]\n",
    "b=a.pop(1)\n",
    "print(a,\"\\n\",b)"
   ]
  },
  {
   "cell_type": "code",
   "execution_count": 18,
   "id": "a1beb117",
   "metadata": {},
   "outputs": [
    {
     "name": "stdout",
     "output_type": "stream",
     "text": [
      "0\n",
      "1\n",
      "2\n",
      "3\n",
      "4\n"
     ]
    }
   ],
   "source": [
    "a=[\"Ram\",\"shyam\",\"Raju\",\"Hari\",\"rajan\"]\n",
    "for i in range(len(a)):\n",
    "    if \"Ram\" in a:\n",
    "        print(i)"
   ]
  },
  {
   "cell_type": "code",
   "execution_count": 15,
   "id": "7c88551d",
   "metadata": {},
   "outputs": [
    {
     "name": "stdout",
     "output_type": "stream",
     "text": [
      "Enter name:sdfa\n",
      "Enter quantity:2\n",
      "[['sdfa', 2, 200]]\n"
     ]
    }
   ],
   "source": [
    "l=[]\n",
    "product=[[\"Apple\",200],[\"banana\",400]]\n",
    "name=input(\"Enter name:\")\n",
    "for i in product:\n",
    "    if name in i:\n",
    "        price=i[1]\n",
    "qty=int(input(\"Enter quantity:\"))\n",
    "total=price*qty\n",
    "info=[name,qty,price]\n",
    "l.append(info)\n",
    "print(l)"
   ]
  },
  {
   "cell_type": "code",
   "execution_count": 24,
   "id": "e3052427",
   "metadata": {},
   "outputs": [
    {
     "name": "stdout",
     "output_type": "stream",
     "text": [
      "1\n"
     ]
    }
   ],
   "source": [
    "#To know index of the data or by value\n",
    "a=[\"Ram\",\"shyam\",\"Raju\",\"Hari\",\"rajan\"]\n",
    "print(a.index(\"shyam\"))\n"
   ]
  },
  {
   "cell_type": "code",
   "execution_count": 97,
   "id": "c416d583",
   "metadata": {},
   "outputs": [
    {
     "name": "stdout",
     "output_type": "stream",
     "text": [
      "1\n",
      "1\n",
      "1\n",
      "1\n",
      "1\n"
     ]
    }
   ],
   "source": [
    "a=[\"Ram\",\"shyam\",\"Raju\",\"Hari\",\"rajan\"]\n",
    "for i in range(len(a)):\n",
    "    print(1)\n",
    "# if \"Raju\" in a:\n",
    "#     print(a)"
   ]
  },
  {
   "cell_type": "code",
   "execution_count": 49,
   "id": "f1eb767c",
   "metadata": {},
   "outputs": [
    {
     "name": "stdout",
     "output_type": "stream",
     "text": [
      "yes\n",
      "3\n"
     ]
    }
   ],
   "source": [
    "a=[\"My name\",2,3,\"My name\",\"My name\"]\n",
    "if \"My name\" in a:\n",
    "    print(\"yes\")\n",
    "    print(a.count(\"My name\"))"
   ]
  },
  {
   "cell_type": "code",
   "execution_count": 73,
   "id": "6916d66a",
   "metadata": {},
   "outputs": [
    {
     "name": "stdout",
     "output_type": "stream",
     "text": [
      "0\n",
      "3\n"
     ]
    }
   ],
   "source": [
    "a=[\"My name\",2,3,\"My name\"]\n",
    "for i in range(len(a)):\n",
    "    if a[i] == \"My name\":\n",
    "        print(i)"
   ]
  },
  {
   "cell_type": "code",
   "execution_count": 4,
   "id": "26d150f6",
   "metadata": {},
   "outputs": [
    {
     "name": "stdout",
     "output_type": "stream",
     "text": [
      "0 0\n",
      "0 4\n"
     ]
    }
   ],
   "source": [
    "#Searching in a multidimesional list\n",
    "a=[[\"Ram\",21,3,\"Hari\",\"Ram\"],[2,2,2,2,2],[\"Ranjan\",\"Pandey\"]]\n",
    "for i in range(len(a)):\n",
    "    for j in range(0,len(a[i])):\n",
    "        if a[i][j] == \"Ram\":\n",
    "            print(i,j)\n",
    "            "
   ]
  },
  {
   "cell_type": "code",
   "execution_count": 75,
   "id": "b543353f",
   "metadata": {},
   "outputs": [
    {
     "name": "stdout",
     "output_type": "stream",
     "text": [
      "0\n"
     ]
    }
   ],
   "source": [
    "a=[\"My name\",2,3,\"My name\"]\n",
    "b=a.index(\"My name\")\n",
    "print(b)"
   ]
  },
  {
   "cell_type": "code",
   "execution_count": 1,
   "id": "44d859d9",
   "metadata": {},
   "outputs": [
    {
     "name": "stdout",
     "output_type": "stream",
     "text": [
      "Enter the number of rows:2\n",
      "Enter the number of columns:2\n",
      "Enter the entries rowwise:\n",
      "1\n",
      "2\n",
      "3\n",
      "4\n",
      "1 2 \n",
      "3 4 \n"
     ]
    }
   ],
   "source": [
    "R = int(input(\"Enter the number of rows:\")) \n",
    "C = int(input(\"Enter the number of columns:\")) \n",
    "  \n",
    "# Initialize matrix \n",
    "matrix = [] \n",
    "print(\"Enter the entries rowwise:\") \n",
    "  \n",
    "# For user input \n",
    "for i in range(R):          # A for loop for row entries \n",
    "    a =[] \n",
    "    for j in range(C):      # A for loop for column entries \n",
    "         a.append(int(input())) \n",
    "    matrix.append(a) \n",
    "  \n",
    "# For printing the matrix \n",
    "for i in range(R): \n",
    "    for j in range(C): \n",
    "        print(matrix[i][j], end = \" \") \n",
    "    print()"
   ]
  },
  {
   "cell_type": "code",
   "execution_count": 14,
   "id": "0ffd8ad5",
   "metadata": {},
   "outputs": [
    {
     "name": "stdout",
     "output_type": "stream",
     "text": [
      "['Ram', 1, 23, 1, 1, 231, 1, 12, 232]\n"
     ]
    }
   ],
   "source": [
    "a=[\"Ram\",1,23,1]\n",
    "b=[1,231,1,12,232]\n",
    "a+=b\n",
    "print(a)\n"
   ]
  },
  {
   "cell_type": "code",
   "execution_count": 15,
   "id": "cb3f2a66",
   "metadata": {},
   "outputs": [
    {
     "name": "stdout",
     "output_type": "stream",
     "text": [
      "('WEcodeinpython', 'is good')\n"
     ]
    }
   ],
   "source": [
    "a=(\"WEcodeinpython\",)\n",
    "b= (\"is good\",)\n",
    "# a = a+ b\n",
    "print(a + b)"
   ]
  },
  {
   "cell_type": "code",
   "execution_count": null,
   "id": "3d69daa1",
   "metadata": {},
   "outputs": [],
   "source": []
  }
 ],
 "metadata": {
  "kernelspec": {
   "display_name": "Python 3",
   "language": "python",
   "name": "python3"
  },
  "language_info": {
   "codemirror_mode": {
    "name": "ipython",
    "version": 3
   },
   "file_extension": ".py",
   "mimetype": "text/x-python",
   "name": "python",
   "nbconvert_exporter": "python",
   "pygments_lexer": "ipython3",
   "version": "3.8.8"
  }
 },
 "nbformat": 4,
 "nbformat_minor": 5
}
